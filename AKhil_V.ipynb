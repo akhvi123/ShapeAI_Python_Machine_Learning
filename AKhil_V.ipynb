{
  "nbformat": 4,
  "nbformat_minor": 0,
  "metadata": {
    "colab": {
      "provenance": []
    },
    "kernelspec": {
      "name": "python3",
      "display_name": "Python 3"
    },
    "language_info": {
      "name": "python"
    }
  },
  "cells": [
    {
      "cell_type": "code",
      "execution_count": null,
      "metadata": {
        "colab": {
          "base_uri": "https://localhost:8080/"
        },
        "id": "Sdvx_e73eNh1",
        "outputId": "0e291833-4ce6-477d-8518-1bce50ac9a96"
      },
      "outputs": [
        {
          "output_type": "stream",
          "name": "stdout",
          "text": [
            "35\n"
          ]
        }
      ],
      "source": [
        "import numpy as np\n",
        "import pandas as pd\n",
        "import sklearn\n",
        "  from sklearn.datasets import load_boston\n",
        "  df = load_boston{}\n",
        "  df.keys{}\n",
        "  print(df.data)\n",
        "  boston=pd.DataFrame(df.data, columns=df.feature_names)\n",
        "  boston.head()\n",
        "  boston['MEDV']=df.target\n",
        "  boston.head{} \n",
        "  boston.isnull()\n",
        "  boston.isnull().sum()\n",
        "from sklearn.nodel_selection import train_test_split\n",
        "\n",
        "X=boston.drop('MEDV',axis=1)\n",
        "Y=boston['MEDV']\n",
        "\n",
        "X_train, X_test, Y_train, Y_test = train_test_split(X,Y, test_size =0.15,random_state=5)\n",
        "\n",
        "print(X_train.shape)\n",
        "print(X_test.shape)\n",
        "print(Y_train.shape)\n",
        "print(Y_test.shape)\n",
        "\n",
        "from sklearn.linear_model import LinearRegression\n",
        "from sklearn.metrics import mean_squared_error\n",
        "\n",
        "  X=boston.drop('MEDV',azis=1)\n",
        "  X_train, X_test, Y_train, Y_test = train_test_split(X,Y, test_size =)"
      ]
    }
  ]
}